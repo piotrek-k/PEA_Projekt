{
 "cells": [
  {
   "cell_type": "markdown",
   "metadata": {},
   "source": [
    "# Algorytm mrówkowy\n",
    "analiza"
   ]
  },
  {
   "cell_type": "code",
   "execution_count": 1,
   "metadata": {},
   "outputs": [],
   "source": [
    "import subprocess\n",
    "import matplotlib.pyplot as plt\n",
    "%matplotlib inline\n",
    "plt.style.use('ggplot')\n",
    "import numpy as np\n",
    "import pandas as pd\n",
    "from IPython.display import display"
   ]
  },
  {
   "cell_type": "code",
   "execution_count": 5,
   "metadata": {},
   "outputs": [],
   "source": [
    "def AnalyseACO(plot_name, files, expected_results, iterations=500,\n",
    "               numberOfAnts=10, collectiveMemoryPower = 1, greedyChoicePower=3,\n",
    "               evaporationRate=0.5, pheromoneStartValue=1, drawPlot = True):\n",
    "    # SYMULOWANE WYŻARZANIE\n",
    "    actual_results = []\n",
    "    error = []\n",
    "    \n",
    "    index = 0\n",
    "    for f in files:\n",
    "        print(\"starting\", f)\n",
    "        \n",
    "        p1 = subprocess.Popen(\n",
    "            [\"../Debug/PEA_Projekt.exe\",\n",
    "             \"ANT\",\n",
    "             \"../Debug/Data/\"+f+\".txt\",\n",
    "             str(iterations),\n",
    "             str(numberOfAnts),\n",
    "             str(collectiveMemoryPower),\n",
    "             str(greedyChoicePower),\n",
    "             str(evaporationRate),\n",
    "             str(pheromoneStartValue),\n",
    "             str(0)],\n",
    "            stdout=subprocess.PIPE)\n",
    "        \n",
    "        text_result = p1.communicate()[0].strip()\n",
    "        print(text_result)\n",
    "        single_result = float(text_result)\n",
    "        actual_results.append(single_result)\n",
    "        \n",
    "        index+=1\n",
    "        \n",
    "    errors = [(abs(expected_results[x] - actual_results[x])) / expected_results[x] * 100\n",
    "                   for x in range(len(actual_results))]\n",
    "    \n",
    "    avgError = sum(errors) / len(errors)\n",
    "    \n",
    "    resultTable = pd.DataFrame(\n",
    "        {'baseFile' : files,\n",
    "         'actual_results': actual_results,\n",
    "         'expected_results': expected_results,\n",
    "         'error': errors\n",
    "        })\n",
    "    \n",
    "    if drawPlot:\n",
    "        plt.rcParams['figure.figsize'] = [20, 5]\n",
    "        fig, axes = plt.subplots()\n",
    "\n",
    "        ind = np.arange(len(expected_results))\n",
    "        width = 0.4   \n",
    "\n",
    "        plt.bar(ind, expected_results, width, label='Wartosci globalnie minimalne')\n",
    "        plt.bar(ind + width, actual_results, width,\n",
    "            label='Wartosci obliczone przez algorytm')\n",
    "\n",
    "        plt.ylabel('Wagi scieżek')\n",
    "        plt.title(plot_name)\n",
    "\n",
    "        plt.xticks(ind + width / 2, files)\n",
    "        plt.legend(loc='best')\n",
    "\n",
    "        plt.show()\n",
    "    \n",
    "    print(avgError)\n",
    "    \n",
    "    return (resultTable, avgError)"
   ]
  },
  {
   "cell_type": "code",
   "execution_count": 3,
   "metadata": {},
   "outputs": [],
   "source": [
    "files = [\"TSP/data17\", \"TSP/data21\", \"TSP/data24\", \"TSP/data26\", \"TSP/data29\", \"TSP/data42\", \"TSP/data58\", \"TSP/data120\"]\n",
    "expected_results = [2085, 2707, 1272, 937, 1610, 699, 25395, 6942]\n",
    "\n",
    "iterations_of_dependency_check = 15"
   ]
  },
  {
   "cell_type": "code",
   "execution_count": 6,
   "metadata": {},
   "outputs": [
    {
     "name": "stdout",
     "output_type": "stream",
     "text": [
      "starting TSP/data17\n",
      "b'2158'\n",
      "starting TSP/data21\n",
      "b'2707'\n",
      "starting TSP/data24\n",
      "b'1328'\n",
      "starting TSP/data26\n",
      "b'955'\n",
      "starting TSP/data29\n",
      "b'1764'\n",
      "starting TSP/data42\n",
      "b'793'\n",
      "starting TSP/data58\n",
      "b'27026'\n",
      "starting TSP/data120\n",
      "b'8541'\n"
     ]
    },
    {
     "data": {
      "image/png": "[encoded data removed]",
      "text/plain": [
       "<Figure size 1440x360 with 1 Axes>"
      ]
     },
     "metadata": {
      "needs_background": "light"
     },
     "output_type": "display_data"
    },
    {
     "name": "stdout",
     "output_type": "stream",
     "text": [
      "7.786746404043939\n"
     ]
    },
    {
     "data": {
      "text/html": [
       "<div>\n",
       "<style scoped>\n",
       "    .dataframe tbody tr th:only-of-type {\n",
       "        vertical-align: middle;\n",
       "    }\n",
       "\n",
       "    .dataframe tbody tr th {\n",
       "        vertical-align: top;\n",
       "    }\n",
       "\n",
       "    .dataframe thead th {\n",
       "        text-align: right;\n",
       "    }\n",
       "</style>\n",
       "<table border=\"1\" class=\"dataframe\">\n",
       "  <thead>\n",
       "    <tr style=\"text-align: right;\">\n",
       "      <th></th>\n",
       "      <th>baseFile</th>\n",
       "      <th>actual_results</th>\n",
       "      <th>expected_results</th>\n",
       "      <th>error</th>\n",
       "    </tr>\n",
       "  </thead>\n",
       "  <tbody>\n",
       "    <tr>\n",
       "      <th>0</th>\n",
       "      <td>TSP/data17</td>\n",
       "      <td>2158.0</td>\n",
       "      <td>2085</td>\n",
       "      <td>3.501199</td>\n",
       "    </tr>\n",
       "    <tr>\n",
       "      <th>1</th>\n",
       "      <td>TSP/data21</td>\n",
       "      <td>2707.0</td>\n",
       "      <td>2707</td>\n",
       "      <td>0.000000</td>\n",
       "    </tr>\n",
       "    <tr>\n",
       "      <th>2</th>\n",
       "      <td>TSP/data24</td>\n",
       "      <td>1328.0</td>\n",
       "      <td>1272</td>\n",
       "      <td>4.402516</td>\n",
       "    </tr>\n",
       "    <tr>\n",
       "      <th>3</th>\n",
       "      <td>TSP/data26</td>\n",
       "      <td>955.0</td>\n",
       "      <td>937</td>\n",
       "      <td>1.921025</td>\n",
       "    </tr>\n",
       "    <tr>\n",
       "      <th>4</th>\n",
       "      <td>TSP/data29</td>\n",
       "      <td>1764.0</td>\n",
       "      <td>1610</td>\n",
       "      <td>9.565217</td>\n",
       "    </tr>\n",
       "    <tr>\n",
       "      <th>5</th>\n",
       "      <td>TSP/data42</td>\n",
       "      <td>793.0</td>\n",
       "      <td>699</td>\n",
       "      <td>13.447783</td>\n",
       "    </tr>\n",
       "    <tr>\n",
       "      <th>6</th>\n",
       "      <td>TSP/data58</td>\n",
       "      <td>27026.0</td>\n",
       "      <td>25395</td>\n",
       "      <td>6.422524</td>\n",
       "    </tr>\n",
       "    <tr>\n",
       "      <th>7</th>\n",
       "      <td>TSP/data120</td>\n",
       "      <td>8541.0</td>\n",
       "      <td>6942</td>\n",
       "      <td>23.033708</td>\n",
       "    </tr>\n",
       "  </tbody>\n",
       "</table>\n",
       "</div>"
      ],
      "text/plain": [
       "      baseFile  actual_results  expected_results      error\n",
       "0   TSP/data17          2158.0              2085   3.501199\n",
       "1   TSP/data21          2707.0              2707   0.000000\n",
       "2   TSP/data24          1328.0              1272   4.402516\n",
       "3   TSP/data26           955.0               937   1.921025\n",
       "4   TSP/data29          1764.0              1610   9.565217\n",
       "5   TSP/data42           793.0               699  13.447783\n",
       "6   TSP/data58         27026.0             25395   6.422524\n",
       "7  TSP/data120          8541.0              6942  23.033708"
      ]
     },
     "metadata": {},
     "output_type": "display_data"
    }
   ],
   "source": [
    "display(AnalyseACO(\"Algorytm genetyczny\", files, expected_results)[0])"
   ]
  }
 ],
 "metadata": {
  "kernelspec": {
   "display_name": "Python 3",
   "language": "python",
   "name": "python3"
  },
  "language_info": {
   "codemirror_mode": {
    "name": "ipython",
    "version": 3
   },
   "file_extension": ".py",
   "mimetype": "text/x-python",
   "name": "python",
   "nbconvert_exporter": "python",
   "pygments_lexer": "ipython3",
   "version": "3.7.0"
  }
 },
 "nbformat": 4,
 "nbformat_minor": 2
}
