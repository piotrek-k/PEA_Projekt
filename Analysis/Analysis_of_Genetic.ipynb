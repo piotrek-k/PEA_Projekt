{
 "cells": [
  {
   "cell_type": "code",
   "execution_count": 1,
   "metadata": {},
   "outputs": [],
   "source": [
    "import subprocess\n",
    "import matplotlib.pyplot as plt\n",
    "%matplotlib inline\n",
    "plt.style.use('ggplot')\n",
    "import numpy as np\n",
    "import pandas as pd\n",
    "from IPython.display import display"
   ]
  },
  {
   "cell_type": "code",
   "execution_count": 2,
   "metadata": {},
   "outputs": [],
   "source": [
    "def AnalyseGEN(plot_name, files, expected_results, iterations=10,\n",
    "               populationSize=10, mutationProbability = 0.05, crossesPerGeneration=50,\n",
    "                drawPlot = True):\n",
    "    # SYMULOWANE WYŻARZANIE\n",
    "    actual_results = []\n",
    "    error = []\n",
    "    \n",
    "    index = 0\n",
    "    for f in files:\n",
    "        print(\"starting\", f)\n",
    "        \n",
    "        p1 = subprocess.Popen(\n",
    "            [\"../Debug/PEA_Projekt.exe\",\n",
    "             \"GEN\",\n",
    "             \"../Debug/Data/\"+f+\".txt\",\n",
    "             str(iterations),\n",
    "             str(populationSize),\n",
    "             str(mutationProbability),\n",
    "             str(crossesPerGeneration),\n",
    "             str(0)],\n",
    "            stdout=subprocess.PIPE)\n",
    "        \n",
    "        text_result = p1.communicate()[0].strip()\n",
    "        print(text_result)\n",
    "        single_result = float(text_result)\n",
    "        actual_results.append(single_result)\n",
    "        \n",
    "        index+=1\n",
    "        \n",
    "    errors = [(abs(expected_results[x] - actual_results[x])) / expected_results[x] * 100\n",
    "                   for x in range(len(actual_results))]\n",
    "    \n",
    "    avgError = sum(errors) / len(errors)\n",
    "    \n",
    "    resultTable = pd.DataFrame(\n",
    "        {'baseFile' : files,\n",
    "         'actual_results': actual_results,\n",
    "         'expected_results': expected_results,\n",
    "         'error': errors\n",
    "        })\n",
    "    \n",
    "    if drawPlot:\n",
    "        plt.rcParams['figure.figsize'] = [20, 5]\n",
    "        fig, axes = plt.subplots()\n",
    "\n",
    "        ind = np.arange(len(expected_results))\n",
    "        width = 0.4   \n",
    "\n",
    "        plt.bar(ind, expected_results, width, label='Wartosci globalnie minimalne')\n",
    "        plt.bar(ind + width, actual_results, width,\n",
    "            label='Wartosci obliczone przez algorytm')\n",
    "\n",
    "        plt.ylabel('Wagi scieżek')\n",
    "        plt.title(plot_name)\n",
    "\n",
    "        plt.xticks(ind + width / 2, files)\n",
    "        plt.legend(loc='best')\n",
    "\n",
    "        plt.show()\n",
    "    \n",
    "    print(avgError)\n",
    "    \n",
    "    return (resultTable, avgError)"
   ]
  },
  {
   "cell_type": "code",
   "execution_count": 3,
   "metadata": {},
   "outputs": [],
   "source": [
    "files = [\"TSP/data17\", \"TSP/data21\", \"TSP/data24\", \"TSP/data26\", \"TSP/data29\", \"TSP/data42\", \"TSP/data58\", \"TSP/data120\"]\n",
    "expected_results = [2085, 2707, 1272, 937, 1610, 699, 25395, 6942]\n",
    "\n",
    "iterations_of_dependency_check = 15"
   ]
  },
  {
   "cell_type": "code",
   "execution_count": 4,
   "metadata": {},
   "outputs": [
    {
     "name": "stdout",
     "output_type": "stream",
     "text": [
      "starting TSP/data26\n",
      "b'1313'\n",
      "40.128068303094985\n",
      "starting TSP/data26\n",
      "b'1225'\n",
      "30.73639274279616\n",
      "starting TSP/data26\n",
      "b'1193'\n",
      "27.321237993596586\n",
      "starting TSP/data26\n",
      "b'1104'\n",
      "17.822838847385274\n",
      "starting TSP/data26\n",
      "b'1060'\n",
      "13.127001067235858\n",
      "starting TSP/data26\n",
      "b'1068'\n",
      "13.980789754535753\n",
      "starting TSP/data26\n",
      "b'1090'\n",
      "16.328708644610458\n",
      "starting TSP/data26\n",
      "b'1116'\n",
      "19.103521878335112\n",
      "starting TSP/data26\n",
      "b'955'\n",
      "1.92102454642476\n",
      "starting TSP/data26\n",
      "b'1118'\n",
      "19.316969050160086\n",
      "starting TSP/data26\n",
      "b'1053'\n",
      "12.379935965848453\n",
      "starting TSP/data26\n",
      "b'988'\n",
      "5.44290288153682\n",
      "starting TSP/data26\n",
      "b'990'\n",
      "5.656350053361793\n",
      "starting TSP/data26\n",
      "b'1055'\n",
      "12.593383137673426\n",
      "starting TSP/data26\n",
      "b'980'\n",
      "4.5891141942369265\n",
      "[40.128068303094985, 30.73639274279616, 27.321237993596586, 17.822838847385274, 13.127001067235858, 13.980789754535753, 16.328708644610458, 19.103521878335112, 1.92102454642476, 19.316969050160086, 12.379935965848453, 5.44290288153682, 5.656350053361793, 12.593383137673426, 4.5891141942369265]\n"
     ]
    },
    {
     "data": {
      "text/plain": [
       "[<matplotlib.lines.Line2D at 0xb21c790>]"
      ]
     },
     "execution_count": 4,
     "metadata": {},
     "output_type": "execute_result"
    },
    {
     "data": {
      "image/png": "[encoded data removed]",
      "text/plain": [
       "<Figure size 432x288 with 1 Axes>"
      ]
     },
     "metadata": {
      "needs_background": "light"
     },
     "output_type": "display_data"
    }
   ],
   "source": [
    "# Wpływ zwiększania populacji\n",
    "avg_errs = []\n",
    "values_used = []\n",
    "for i in range(iterations_of_dependency_check):\n",
    "    value_used = (i+1)*10\n",
    "    values_used.append(value_used)\n",
    "    avg_errs.append(\n",
    "        AnalyseGEN(\"Algorytm genetyczny\", [files[3]], [expected_results[3]], iterations=100, populationSize=value_used, drawPlot=False)[1])\n",
    "print(avg_errs)\n",
    "\n",
    "plt.plot(values_used, avg_errs)"
   ]
  },
  {
   "cell_type": "code",
   "execution_count": null,
   "metadata": {},
   "outputs": [
    {
     "name": "stdout",
     "output_type": "stream",
     "text": [
      "starting TSP/data26\n",
      "b'1006'\n",
      "7.363927427961579\n",
      "starting TSP/data26\n",
      "b'1136'\n",
      "21.237993596584843\n",
      "starting TSP/data26\n",
      "b'1056'\n",
      "12.700106723585913\n",
      "starting TSP/data26\n",
      "b'1180'\n",
      "25.933831376734258\n",
      "starting TSP/data26\n",
      "b'990'\n",
      "5.656350053361793\n",
      "starting TSP/data26\n"
     ]
    }
   ],
   "source": [
    "# Wpływ zwiększania prawdopodob. mutacji\n",
    "avg_errs = []\n",
    "values_used = []\n",
    "for i in range(iterations_of_dependency_check):\n",
    "    value_used = (i+1)*(0.1)\n",
    "    values_used.append(value_used)\n",
    "    avg_errs.append(\n",
    "        AnalyseGEN(\"Algorytm genetyczny\", [files[3]], [expected_results[3]], iterations=100, populationSize=50, mutationProbability=value_used, drawPlot=False)[1])\n",
    "print(avg_errs)\n",
    "\n",
    "plt.plot(values_used, avg_errs)"
   ]
  },
  {
   "cell_type": "code",
   "execution_count": null,
   "metadata": {},
   "outputs": [],
   "source": [
    "# Wpływ zwiększania prawdopodob. mutacji\n",
    "avg_errs = []\n",
    "values_used = []\n",
    "for i in range(iterations_of_dependency_check):\n",
    "    value_used = (i+1) * 10\n",
    "    values_used.append(value_used)\n",
    "    avg_errs.append(\n",
    "        AnalyseGEN(\"Algorytm genetyczny\", [files[3]], [expected_results[3]], iterations=100, populationSize=50, crossesPerGeneration=value_used, drawPlot=False)[1])\n",
    "print(avg_errs)\n",
    "\n",
    "plt.plot(values_used, avg_errs)"
   ]
  },
  {
   "cell_type": "code",
   "execution_count": null,
   "metadata": {},
   "outputs": [],
   "source": [
    "display(AnalyseGEN(\"Algorytm genetyczny\", files, expected_results, iterations=100, populationSize=100))"
   ]
  }
 ],
 "metadata": {
  "kernelspec": {
   "display_name": "Python 3",
   "language": "python",
   "name": "python3"
  },
  "language_info": {
   "codemirror_mode": {
    "name": "ipython",
    "version": 3
   },
   "file_extension": ".py",
   "mimetype": "text/x-python",
   "name": "python",
   "nbconvert_exporter": "python",
   "pygments_lexer": "ipython3",
   "version": "3.7.0"
  }
 },
 "nbformat": 4,
 "nbformat_minor": 2
}
