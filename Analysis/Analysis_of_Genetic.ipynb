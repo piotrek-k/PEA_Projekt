{
 "cells": [
  {
   "cell_type": "code",
   "execution_count": 1,
   "metadata": {},
   "outputs": [],
   "source": [
    "import subprocess\n",
    "import matplotlib.pyplot as plt\n",
    "%matplotlib inline\n",
    "plt.style.use('ggplot')\n",
    "import numpy as np\n",
    "import pandas as pd\n",
    "from IPython.display import display"
   ]
  },
  {
   "cell_type": "code",
   "execution_count": 2,
   "metadata": {},
   "outputs": [],
   "source": [
    "def AnalyseGEN(plot_name, files, expected_results, iterations=10,\n",
    "               populationSize=10, mutationProbability = 0.05, crossesPerGeneration=50,\n",
    "                drawPlot = True):\n",
    "    # SYMULOWANE WYŻARZANIE\n",
    "    actual_results = []\n",
    "    error = []\n",
    "    \n",
    "    index = 0\n",
    "    for f in files:\n",
    "        print(\"starting\", f)\n",
    "        \n",
    "        p1 = subprocess.Popen(\n",
    "            [\"../Debug/PEA_Projekt.exe\",\n",
    "             \"GEN\",\n",
    "             \"../Debug/Data/\"+f+\".txt\",\n",
    "             str(iterations),\n",
    "             str(populationSize),\n",
    "             str(mutationProbability),\n",
    "             str(crossesPerGeneration),\n",
    "             str(0)],\n",
    "            stdout=subprocess.PIPE)\n",
    "        \n",
    "        text_result = p1.communicate()[0].strip()\n",
    "        print(text_result)\n",
    "        single_result = float(text_result)\n",
    "        actual_results.append(single_result)\n",
    "        \n",
    "        index+=1\n",
    "        \n",
    "    errors = [(abs(expected_results[x] - actual_results[x])) / expected_results[x] * 100\n",
    "                   for x in range(len(actual_results))]\n",
    "    \n",
    "    avgError = sum(errors) / len(errors)\n",
    "    \n",
    "    resultTable = pd.DataFrame(\n",
    "        {'baseFile' : files,\n",
    "         'actual_results': actual_results,\n",
    "         'expected_results': expected_results,\n",
    "         'error': errors\n",
    "        })\n",
    "    \n",
    "    if drawPlot:\n",
    "        plt.rcParams['figure.figsize'] = [20, 5]\n",
    "        fig, axes = plt.subplots()\n",
    "\n",
    "        ind = np.arange(len(expected_results))\n",
    "        width = 0.4   \n",
    "\n",
    "        plt.bar(ind, expected_results, width, label='Wartosci globalnie minimalne')\n",
    "        plt.bar(ind + width, actual_results, width,\n",
    "            label='Wartosci obliczone przez algorytm')\n",
    "\n",
    "        plt.ylabel('Wagi scieżek')\n",
    "        plt.title(plot_name)\n",
    "\n",
    "        plt.xticks(ind + width / 2, files)\n",
    "        plt.legend(loc='best')\n",
    "\n",
    "        plt.show()\n",
    "    \n",
    "    print(avgError)\n",
    "    \n",
    "    return (resultTable, avgError)"
   ]
  },
  {
   "cell_type": "code",
   "execution_count": 3,
   "metadata": {},
   "outputs": [],
   "source": [
    "files = [\"TSP/data17\", \"TSP/data21\", \"TSP/data24\", \"TSP/data26\", \"TSP/data29\", \"TSP/data42\", \"TSP/data58\", \"TSP/data120\"]\n",
    "expected_results = [2085, 2707, 1272, 937, 1610, 699, 25395, 6942]\n",
    "\n",
    "iterations_of_dependency_check = 15"
   ]
  },
  {
   "cell_type": "code",
   "execution_count": 4,
   "metadata": {},
   "outputs": [
    {
     "name": "stdout",
     "output_type": "stream",
     "text": [
      "starting TSP/data26\n",
      "b'1212'\n",
      "29.34898612593383\n",
      "starting TSP/data26\n",
      "b'1139'\n",
      "21.558164354322304\n",
      "starting TSP/data26\n",
      "b'1209'\n",
      "29.02881536819637\n",
      "starting TSP/data26\n",
      "b'1006'\n",
      "7.363927427961579\n",
      "starting TSP/data26\n",
      "b'1152'\n",
      "22.94557097118463\n",
      "starting TSP/data26\n",
      "b'1083'\n",
      "15.581643543223054\n",
      "starting TSP/data26\n",
      "b'1017'\n",
      "8.537886872998932\n",
      "starting TSP/data26\n",
      "b'1023'\n",
      "9.178228388473853\n",
      "starting TSP/data26\n",
      "b'1015'\n",
      "8.32443970117396\n",
      "starting TSP/data26\n",
      "b'967'\n",
      "3.2017075773745995\n",
      "starting TSP/data26\n",
      "b'974'\n",
      "3.9487726787620065\n",
      "starting TSP/data26\n",
      "b'1006'\n",
      "7.363927427961579\n",
      "starting TSP/data26\n",
      "b'1051'\n",
      "12.16648879402348\n",
      "starting TSP/data26\n",
      "b'978'\n",
      "4.375667022411953\n",
      "starting TSP/data26\n",
      "b'1077'\n",
      "14.941302027748133\n",
      "[29.34898612593383, 21.558164354322304, 29.02881536819637, 7.363927427961579, 22.94557097118463, 15.581643543223054, 8.537886872998932, 9.178228388473853, 8.32443970117396, 3.2017075773745995, 3.9487726787620065, 7.363927427961579, 12.16648879402348, 4.375667022411953, 14.941302027748133]\n"
     ]
    },
    {
     "data": {
      "text/plain": [
       "[<matplotlib.lines.Line2D at 0xb0cd7b0>]"
      ]
     },
     "execution_count": 4,
     "metadata": {},
     "output_type": "execute_result"
    },
    {
     "data": {
      "image/png": "[encoded data removed]",
      "text/plain": [
       "<Figure size 432x288 with 1 Axes>"
      ]
     },
     "metadata": {
      "needs_background": "light"
     },
     "output_type": "display_data"
    }
   ],
   "source": [
    "# Wpływ zwiększania populacji\n",
    "avg_errs = []\n",
    "values_used = []\n",
    "for i in range(iterations_of_dependency_check):\n",
    "    value_used = (i+1)*10\n",
    "    values_used.append(value_used)\n",
    "    avg_errs.append(\n",
    "        AnalyseGEN(\"Algorytm genetyczny\", [files[3]], [expected_results[3]], iterations=100, populationSize=value_used, drawPlot=False)[1])\n",
    "print(avg_errs)\n",
    "\n",
    "plt.plot(values_used, avg_errs)"
   ]
  },
  {
   "cell_type": "code",
   "execution_count": 5,
   "metadata": {},
   "outputs": [
    {
     "name": "stdout",
     "output_type": "stream",
     "text": [
      "starting TSP/data26\n",
      "b'1119'\n",
      "19.423692636072573\n",
      "starting TSP/data26\n",
      "b'1214'\n",
      "29.562433297758805\n",
      "starting TSP/data26\n",
      "b'1015'\n",
      "8.32443970117396\n",
      "starting TSP/data26\n",
      "b'1077'\n",
      "14.941302027748133\n",
      "starting TSP/data26\n",
      "b'1140'\n",
      "21.66488794023479\n",
      "starting TSP/data26\n",
      "b'1003'\n",
      "7.043756670224119\n",
      "starting TSP/data26\n",
      "b'1054'\n",
      "12.48665955176094\n",
      "starting TSP/data26\n",
      "b'1090'\n",
      "16.328708644610458\n",
      "starting TSP/data26\n",
      "b'937'\n",
      "0.0\n",
      "starting TSP/data26\n",
      "b'1145'\n",
      "22.198505869797224\n",
      "starting TSP/data26\n",
      "b'995'\n",
      "6.189967982924227\n",
      "starting TSP/data26\n",
      "b'1072'\n",
      "14.4076840981857\n",
      "starting TSP/data26\n",
      "b'1066'\n",
      "13.767342582710778\n",
      "starting TSP/data26\n",
      "b'1181'\n",
      "26.040554962646745\n",
      "starting TSP/data26\n",
      "b'1006'\n",
      "7.363927427961579\n",
      "[19.423692636072573, 29.562433297758805, 8.32443970117396, 14.941302027748133, 21.66488794023479, 7.043756670224119, 12.48665955176094, 16.328708644610458, 0.0, 22.198505869797224, 6.189967982924227, 14.4076840981857, 13.767342582710778, 26.040554962646745, 7.363927427961579]\n"
     ]
    },
    {
     "data": {
      "text/plain": [
       "[<matplotlib.lines.Line2D at 0x9c91f0>]"
      ]
     },
     "execution_count": 5,
     "metadata": {},
     "output_type": "execute_result"
    },
    {
     "data": {
      "image/png": "[encoded data removed]",
      "text/plain": [
       "<Figure size 432x288 with 1 Axes>"
      ]
     },
     "metadata": {
      "needs_background": "light"
     },
     "output_type": "display_data"
    }
   ],
   "source": [
    "# Wpływ zwiększania prawdopodob. mutacji\n",
    "avg_errs = []\n",
    "values_used = []\n",
    "for i in range(iterations_of_dependency_check):\n",
    "    value_used = (i+1)*(0.05)\n",
    "    values_used.append(value_used)\n",
    "    avg_errs.append(\n",
    "        AnalyseGEN(\"Algorytm genetyczny\", [files[3]], [expected_results[3]], iterations=100, populationSize=50, mutationProbability=value_used, drawPlot=False)[1])\n",
    "print(avg_errs)\n",
    "\n",
    "plt.plot(values_used, avg_errs)"
   ]
  },
  {
   "cell_type": "code",
   "execution_count": 6,
   "metadata": {},
   "outputs": [
    {
     "name": "stdout",
     "output_type": "stream",
     "text": [
      "starting TSP/data26\n",
      "b'1129'\n",
      "20.490928495197437\n",
      "starting TSP/data26\n",
      "b'1220'\n",
      "30.202774813233724\n",
      "starting TSP/data26\n",
      "b'1101'\n",
      "17.502668089647813\n",
      "starting TSP/data26\n",
      "b'1256'\n",
      "34.044823906083245\n",
      "starting TSP/data26\n",
      "b'1055'\n",
      "12.593383137673426\n",
      "starting TSP/data26\n",
      "b'1106'\n",
      "18.036286019210245\n",
      "starting TSP/data26\n",
      "b'1053'\n",
      "12.379935965848453\n",
      "starting TSP/data26\n",
      "b'977'\n",
      "4.268943436499466\n",
      "starting TSP/data26\n",
      "b'978'\n",
      "4.375667022411953\n",
      "starting TSP/data26\n",
      "b'1004'\n",
      "7.150480256136606\n",
      "starting TSP/data26\n",
      "b'1074'\n",
      "14.621131270010673\n",
      "starting TSP/data26\n",
      "b'1026'\n",
      "9.498399146211312\n",
      "starting TSP/data26\n",
      "b'1010'\n",
      "7.790821771611527\n",
      "starting TSP/data26\n",
      "b'1016'\n",
      "8.431163287086447\n",
      "starting TSP/data26\n",
      "b'1067'\n",
      "13.874066168623267\n",
      "[20.490928495197437, 30.202774813233724, 17.502668089647813, 34.044823906083245, 12.593383137673426, 18.036286019210245, 12.379935965848453, 4.268943436499466, 4.375667022411953, 7.150480256136606, 14.621131270010673, 9.498399146211312, 7.790821771611527, 8.431163287086447, 13.874066168623267]\n"
     ]
    },
    {
     "data": {
      "text/plain": [
       "[<matplotlib.lines.Line2D at 0xf47f90>]"
      ]
     },
     "execution_count": 6,
     "metadata": {},
     "output_type": "execute_result"
    },
    {
     "data": {
      "image/png": "[encoded data removed]",
      "text/plain": [
       "<Figure size 432x288 with 1 Axes>"
      ]
     },
     "metadata": {
      "needs_background": "light"
     },
     "output_type": "display_data"
    }
   ],
   "source": [
    "# Wpływ zwiększania ilości nowego potomstwa\n",
    "avg_errs = []\n",
    "values_used = []\n",
    "for i in range(iterations_of_dependency_check):\n",
    "    value_used = (i+1) * 10\n",
    "    values_used.append(value_used)\n",
    "    avg_errs.append(\n",
    "        AnalyseGEN(\"Algorytm genetyczny\", [files[3]], [expected_results[3]], iterations=100, populationSize=50, crossesPerGeneration=value_used, drawPlot=False)[1])\n",
    "print(avg_errs)\n",
    "\n",
    "plt.plot(values_used, avg_errs)"
   ]
  },
  {
   "cell_type": "code",
   "execution_count": 7,
   "metadata": {},
   "outputs": [
    {
     "name": "stdout",
     "output_type": "stream",
     "text": [
      "starting TSP/data17\n",
      "b'2153'\n",
      "starting TSP/data21\n",
      "b'2801'\n",
      "starting TSP/data24\n",
      "b'1614'\n",
      "starting TSP/data26\n",
      "b'953'\n",
      "starting TSP/data29\n",
      "b'1669'\n",
      "starting TSP/data42\n",
      "b'1131'\n",
      "starting TSP/data58\n",
      "b'47640'\n",
      "starting TSP/data120\n",
      "b'25475'\n"
     ]
    },
    {
     "data": {
      "image/png": "[encoded data removed]",
      "text/plain": [
       "<Figure size 1440x360 with 1 Axes>"
      ]
     },
     "metadata": {
      "needs_background": "light"
     },
     "output_type": "display_data"
    },
    {
     "name": "stdout",
     "output_type": "stream",
     "text": [
      "56.92007093304268\n"
     ]
    },
    {
     "data": {
      "text/plain": [
       "(      baseFile  actual_results  expected_results       error\n",
       " 0   TSP/data17          2153.0              2085    3.261391\n",
       " 1   TSP/data21          2801.0              2707    3.472479\n",
       " 2   TSP/data24          1614.0              1272   26.886792\n",
       " 3   TSP/data26           953.0               937    1.707577\n",
       " 4   TSP/data29          1669.0              1610    3.664596\n",
       " 5   TSP/data42          1131.0               699   61.802575\n",
       " 6   TSP/data58         47640.0             25395   87.595983\n",
       " 7  TSP/data120         25475.0              6942  266.969173,\n",
       " 56.92007093304268)"
      ]
     },
     "metadata": {},
     "output_type": "display_data"
    }
   ],
   "source": [
    "display(AnalyseGEN(\"Algorytm genetyczny\", files, expected_results, iterations=100, populationSize=100)[0])"
   ]
  }
 ],
 "metadata": {
  "kernelspec": {
   "display_name": "Python 3",
   "language": "python",
   "name": "python3"
  },
  "language_info": {
   "codemirror_mode": {
    "name": "ipython",
    "version": 3
   },
   "file_extension": ".py",
   "mimetype": "text/x-python",
   "name": "python",
   "nbconvert_exporter": "python",
   "pygments_lexer": "ipython3",
   "version": "3.7.0"
  }
 },
 "nbformat": 4,
 "nbformat_minor": 2
}
