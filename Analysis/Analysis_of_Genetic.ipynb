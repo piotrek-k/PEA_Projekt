{
 "cells": [
  {
   "cell_type": "markdown",
   "metadata": {},
   "source": [
    "# Algorytm genetyczny\n",
    "Analiza"
   ]
  },
  {
   "cell_type": "code",
   "execution_count": 1,
   "metadata": {},
   "outputs": [],
   "source": [
    "import subprocess\n",
    "import matplotlib.pyplot as plt\n",
    "%matplotlib inline\n",
    "plt.style.use('ggplot')\n",
    "import numpy as np\n",
    "import pandas as pd\n",
    "from IPython.display import display\n",
    "from enum import Enum"
   ]
  },
  {
   "cell_type": "code",
   "execution_count": 2,
   "metadata": {},
   "outputs": [],
   "source": [
    "def AnalyseGEN(plot_name, files, expected_results, iterations=10,\n",
    "               populationSize=10, mutationProbability = 0.05, crossesPerGeneration=50,\n",
    "                drawPlot = True):\n",
    "    # SYMULOWANE WYŻARZANIE\n",
    "    actual_results = []\n",
    "    error = []\n",
    "    \n",
    "    index = 0\n",
    "    for f in files:\n",
    "        print(\"solving\", f, end =\"...\")\n",
    "        \n",
    "        p1 = subprocess.Popen(\n",
    "            [\"../Debug/PEA_Projekt.exe\",\n",
    "             \"GEN\",\n",
    "             \"../Debug/Data/\"+f+\".txt\",\n",
    "             str(iterations),\n",
    "             str(populationSize),\n",
    "             str(mutationProbability),\n",
    "             str(crossesPerGeneration),\n",
    "             str(0)],\n",
    "            stdout=subprocess.PIPE)\n",
    "        \n",
    "        text_result = p1.communicate()[0].strip()\n",
    "        print(\"result\", text_result, end =\"...\")\n",
    "        single_result = float(text_result)\n",
    "        actual_results.append(single_result)\n",
    "        \n",
    "        index+=1\n",
    "        \n",
    "    errors = [(abs(expected_results[x] - actual_results[x])) / expected_results[x] * 100\n",
    "                   for x in range(len(actual_results))]\n",
    "    \n",
    "    avgError = sum(errors) / len(errors)\n",
    "    \n",
    "    resultTable = pd.DataFrame(\n",
    "        {'baseFile' : files,\n",
    "         'actual_results': actual_results,\n",
    "         'expected_results': expected_results,\n",
    "         'error': errors\n",
    "        })\n",
    "    \n",
    "    if drawPlot:\n",
    "        plt.rcParams['figure.figsize'] = [20, 5]\n",
    "        fig, axes = plt.subplots()\n",
    "\n",
    "        ind = np.arange(len(expected_results))\n",
    "        width = 0.4   \n",
    "\n",
    "        plt.bar(ind, expected_results, width, label='Wartosci globalnie minimalne')\n",
    "        plt.bar(ind + width, actual_results, width,\n",
    "            label='Wartosci obliczone przez algorytm')\n",
    "\n",
    "        plt.ylabel('Wagi scieżek')\n",
    "        plt.title(plot_name)\n",
    "\n",
    "        plt.xticks(ind + width / 2, files)\n",
    "        plt.legend(loc='best')\n",
    "\n",
    "        plt.show()\n",
    "    \n",
    "    print(\"avgErr\", avgError)\n",
    "    \n",
    "    return (resultTable, avgError)"
   ]
  },
  {
   "cell_type": "code",
   "execution_count": 3,
   "metadata": {},
   "outputs": [],
   "source": [
    "files = [\"TSP/data17\", \"TSP/data21\", \"TSP/data24\", \"TSP/data26\", \"TSP/data29\", \"TSP/data42\", \"TSP/data58\", \"TSP/data120\"]\n",
    "expected_results = [2085, 2707, 1272, 937, 1610, 699, 25395, 6942]\n",
    "\n",
    "iterations_of_dependency_check = 50"
   ]
  },
  {
   "cell_type": "code",
   "execution_count": 4,
   "metadata": {},
   "outputs": [],
   "source": [
    "class Parameter(Enum):\n",
    "    POPULATION_SIZE = 1\n",
    "    MUTATION_PROBABILITY = 2\n",
    "    CROSSES_PER_GENERATION = 3\n",
    "\n",
    "def parameterImpactAnalysis(multiplier = 1,\n",
    "                            parameter = Parameter.POPULATION_SIZE,\n",
    "                            iterations=2,\n",
    "                            file=files[3],\n",
    "                            expected_result=expected_results[3]):\n",
    "    \"\"\"\n",
    "    Wyświetla wykres ilustrujący wpływ zmiany parametru na działanie algorytmu\n",
    "    \"\"\"\n",
    "    avg_errs = []\n",
    "    values_used = []\n",
    "    for i in range(iterations):\n",
    "        value_used = (i+1)*multiplier\n",
    "        if(parameter == Parameter.POPULATION_SIZE):\n",
    "            avg_errs.append(\n",
    "                AnalyseGEN(\"Wpływ wielkości populacji na skuteczność algorytmu\",\n",
    "                           [file],\n",
    "                           [expected_result],\n",
    "                           iterations=100,\n",
    "                           populationSize=value_used,\n",
    "                           drawPlot=False)[1])\n",
    "        elif(parameter == Parameter.MUTATION_PROBABILITY):\n",
    "            avg_errs.append(\n",
    "                AnalyseGEN(\"Wpływ prawodopodobieństwa mutacji na skuteczność algorytmu\",\n",
    "                           [file],\n",
    "                           [expected_result],\n",
    "                           iterations=100,\n",
    "                           populationSize=50,\n",
    "                           mutationProbability=value_used,\n",
    "                           drawPlot=False)[1])\n",
    "        elif(parameter == Parameter.CROSSES_PER_GENERATION):\n",
    "            avg_errs.append(\n",
    "                AnalyseGEN(\"Wpływ ilości potomstwa na skuteczność algorytmu\",\n",
    "                           [file],\n",
    "                           [expected_result],\n",
    "                           iterations=100,\n",
    "                           populationSize=50,\n",
    "                           crossesPerGeneration=value_used,\n",
    "                           drawPlot=False)[1])\n",
    "        values_used.append(value_used)\n",
    "        \n",
    "    print(avg_errs)\n",
    "\n",
    "    plot, ax = plt.subplots()\n",
    "    ax.set_ylabel(\"Odchylenie od wartości opt. [%]\")\n",
    "    ax.set_xlabel(\"Wartość modyfikowanego parametru\")\n",
    "    #plot.plot(values_used, avg_errs)\n",
    "    \n",
    "    # trendline\n",
    "    z = np.polyfit(values_used, avg_errs, 1)\n",
    "    p = np.poly1d(z)\n",
    "    \n",
    "    plt.plot(values_used, avg_errs, values_used, p(values_used),\"b--\")\n",
    "    plt.show()\n",
    "    "
   ]
  },
  {
   "cell_type": "markdown",
   "metadata": {},
   "source": [
    "## Zależność dokładności algorytmu od wielkości populacji"
   ]
  },
  {
   "cell_type": "code",
   "execution_count": null,
   "metadata": {},
   "outputs": [
    {
     "name": "stdout",
     "output_type": "stream",
     "text": [
      "solving TSP/data24...result b'1619'...avgErr 27.27987421383648\n",
      "solving TSP/data24...result b'1500'...avgErr 17.92452830188679\n",
      "solving TSP/data24...result b'1664'...avgErr 30.81761006289308\n",
      "solving TSP/data24...result b'1722'...avgErr 35.37735849056604\n",
      "solving TSP/data24...result b'1527'...avgErr 20.047169811320757\n",
      "solving TSP/data24...result b'1614'...avgErr 26.88679245283019\n",
      "solving TSP/data24...result b'1504'...avgErr 18.238993710691823\n",
      "solving TSP/data24...result b'1382'...avgErr 8.647798742138365\n",
      "solving TSP/data24...result b'1329'...avgErr 4.481132075471698\n",
      "solving TSP/data24...result b'1318'...avgErr 3.6163522012578615\n",
      "solving TSP/data24...result b'1413'...avgErr 11.084905660377359\n",
      "solving TSP/data24...result b'1460'...avgErr 14.779874213836477\n",
      "solving TSP/data24...result b'1289'...avgErr 1.3364779874213837\n",
      "solving TSP/data24...result b'1453'...avgErr 14.229559748427672\n",
      "solving TSP/data24...result b'1378'...avgErr 8.333333333333332\n",
      "solving TSP/data24...result b'1367'...avgErr 7.468553459119496\n",
      "solving TSP/data24...result b'1328'...avgErr 4.40251572327044\n",
      "solving TSP/data24...result b'1406'...avgErr 10.534591194968554\n",
      "solving TSP/data24...result b'1462'...avgErr 14.937106918238992\n",
      "solving TSP/data24...result b'1379'...avgErr 8.41194968553459\n",
      "solving TSP/data24...result b'1452'...avgErr 14.150943396226415\n",
      "solving TSP/data24...result b'1322'...avgErr 3.930817610062893\n",
      "solving TSP/data24...result b'1366'...avgErr 7.3899371069182385\n",
      "solving TSP/data24...result b'1356'...avgErr 6.60377358490566\n",
      "solving TSP/data24...result b'1329'...avgErr 4.481132075471698\n",
      "solving TSP/data24...result b'1289'...avgErr 1.3364779874213837\n",
      "solving TSP/data24...result b'1286'...avgErr 1.10062893081761\n",
      "solving TSP/data24...result b'1289'...avgErr 1.3364779874213837\n",
      "solving TSP/data24...result b'1496'...avgErr 17.61006289308176\n",
      "solving TSP/data24...result b'1419'...avgErr 11.556603773584905\n",
      "solving TSP/data24...result b'1356'...avgErr 6.60377358490566\n",
      "solving TSP/data24...result b'1386'...avgErr 8.962264150943396\n",
      "solving TSP/data24...result b'1459'...avgErr 14.70125786163522\n",
      "solving TSP/data24...result b'1290'...avgErr 1.4150943396226416\n",
      "solving TSP/data24...result b'1373'...avgErr 7.9402515723270435\n",
      "solving TSP/data24...result b'1445'...avgErr 13.60062893081761\n",
      "solving TSP/data24...result b'1478'...avgErr 16.19496855345912\n",
      "solving TSP/data24...result b'1345'...avgErr 5.738993710691824\n",
      "solving TSP/data24...result b'1452'...avgErr 14.150943396226415\n",
      "solving TSP/data24...result b'1376'...avgErr 8.176100628930817\n",
      "solving TSP/data24...result b'1477'...avgErr 16.11635220125786\n",
      "solving TSP/data24...result b'1395'...avgErr 9.669811320754718\n",
      "solving TSP/data24...result b'1578'...avgErr 24.056603773584907\n",
      "solving TSP/data24..."
     ]
    }
   ],
   "source": [
    "parameterImpactAnalysis(5,\n",
    "                        Parameter.POPULATION_SIZE,\n",
    "                        iterations=iterations_of_dependency_check,\n",
    "                        # iterations=3,\n",
    "                        file=files[2],\n",
    "                        expected_result=expected_results[2])"
   ]
  },
  {
   "cell_type": "markdown",
   "metadata": {},
   "source": [
    "## Zależność dokładności algorytmu od prawdopodobieństwa mutacji"
   ]
  },
  {
   "cell_type": "code",
   "execution_count": null,
   "metadata": {},
   "outputs": [],
   "source": [
    "parameterImpactAnalysis(0.025,\n",
    "                        Parameter.MUTATION_PROBABILITY,\n",
    "                        iterations=iterations_of_dependency_check,\n",
    "                        file=files[2],\n",
    "                        expected_result=expected_results[2])"
   ]
  },
  {
   "cell_type": "markdown",
   "metadata": {},
   "source": [
    "## Zależność dokładności algorytmu od ilości potomstwa każdej z generacji "
   ]
  },
  {
   "cell_type": "code",
   "execution_count": null,
   "metadata": {},
   "outputs": [],
   "source": [
    "parameterImpactAnalysis(5,\n",
    "                        Parameter.CROSSES_PER_GENERATION,\n",
    "                        iterations=iterations_of_dependency_check,\n",
    "                        file=files[2],\n",
    "                        expected_result=expected_results[2])"
   ]
  },
  {
   "cell_type": "markdown",
   "metadata": {},
   "source": [
    "## Porównanie wyników uzyskanych przez algorytm z wynikami optymalnymi dla przykładowych zestawów danych"
   ]
  },
  {
   "cell_type": "code",
   "execution_count": null,
   "metadata": {},
   "outputs": [],
   "source": [
    "display(AnalyseGEN(\"Algorytm genetyczny\", files, expected_results, iterations=100, populationSize=100)[0])"
   ]
  }
 ],
 "metadata": {
  "kernelspec": {
   "display_name": "Python 3",
   "language": "python",
   "name": "python3"
  },
  "language_info": {
   "codemirror_mode": {
    "name": "ipython",
    "version": 3
   },
   "file_extension": ".py",
   "mimetype": "text/x-python",
   "name": "python",
   "nbconvert_exporter": "python",
   "pygments_lexer": "ipython3",
   "version": "3.7.0"
  }
 },
 "nbformat": 4,
 "nbformat_minor": 2
}
